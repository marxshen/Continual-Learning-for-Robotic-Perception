{
  "nbformat": 4,
  "nbformat_minor": 0,
  "metadata": {
    "colab": {
      "name": "Continual Learning (CL) for Robotic Perception.ipynb",
      "provenance": [],
      "collapsed_sections": [],
      "toc_visible": true,
      "machine_shape": "hm"
    },
    "kernelspec": {
      "name": "python3",
      "display_name": "Python 3"
    },
    "accelerator": "GPU"
  },
  "cells": [
    {
      "cell_type": "code",
      "metadata": {
        "id": "gl8G_ndg_zrY",
        "colab_type": "code",
        "colab": {}
      },
      "source": [
        "from google.colab import drive\n",
        "drive.mount('/content/drive')\n",
        "\n",
        "%cd /content/drive/My Drive/core50/"
      ],
      "execution_count": 0,
      "outputs": []
    },
    {
      "cell_type": "code",
      "metadata": {
        "id": "h68aLBW55ZjO",
        "colab_type": "code",
        "colab": {}
      },
      "source": [
        "# Write files to a disk (Need to execute this line for the first time)\n",
        "# !unzip 'data/core50_128x128.zip' -d data/"
      ],
      "execution_count": 0,
      "outputs": []
    },
    {
      "cell_type": "code",
      "metadata": {
        "id": "z-apmU2MB-2O",
        "colab_type": "code",
        "colab": {}
      },
      "source": [
        "# Create a RAM disk\n",
        "!mount -t tmpfs -o size=7g tmpfs data/core50_128x128/\n",
        "!mount | tail -n 1"
      ],
      "execution_count": 0,
      "outputs": []
    },
    {
      "cell_type": "code",
      "metadata": {
        "id": "F1CQ3QxRT36n",
        "colab_type": "code",
        "colab": {}
      },
      "source": [
        "# Write files to a RAM disk\n",
        "!unzip 'data/core50_128x128.zip' -d data/"
      ],
      "execution_count": 0,
      "outputs": []
    },
    {
      "cell_type": "code",
      "metadata": {
        "id": "t1gM84OdCR7H",
        "colab_type": "code",
        "colab": {}
      },
      "source": [
        "!pip install sacred\n",
        "!apt install caffe-cuda"
      ],
      "execution_count": 0,
      "outputs": []
    },
    {
      "cell_type": "code",
      "metadata": {
        "id": "Wbbnp94J_4wp",
        "colab_type": "code",
        "colab": {}
      },
      "source": [
        "import numpy as np\n",
        "import sacred\n",
        "import caffe\n",
        "\n",
        "# !echo \"running BVLC, mid-caffenet, cumulative...\"\n",
        "# !python core/core50_inc_finetuning.py with confs/sII/mid-caffeNet/cumulative.json \\\n",
        "# 2> data/logs/caffe_cumulative_bvlc.out > data/logs/sII_caffenet_cumulative_bvlc.out\n",
        "\n",
        "!echo \"running ResNet-10, mid-caffenet, cumulative...\"\n",
        "!python core/core50_inc_finetuning.py with confs/sII/mid-caffeNet/cumulative.json \\\n",
        "2> data/logs/caffe_cumulative_resnet-10.out > data/logs/sII_caffenet_cumulative_resnet-10.out\n",
        "\n",
        "# !echo \"running ResNet-50, mid-caffenet, cumulative...\"\n",
        "# !python core/core50_inc_finetuning.py with confs/sII/mid-caffeNet/cumulative.json \\\n",
        "# 2> data/logs/caffe_cumulative_resnet-50.out > data/logs/sII_caffenet_cumulative_resnet-50.out"
      ],
      "execution_count": 0,
      "outputs": []
    }
  ]
}